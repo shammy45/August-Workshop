{
 "cells": [
  {
   "cell_type": "code",
   "execution_count": 1,
   "metadata": {},
   "outputs": [],
   "source": [
    "from __future__ import absolute_import\n",
    "from __future__ import division\n",
    "from __future__ import unicode_literals\n",
    "\n",
    "from rasa_core_sdk import Action\n",
    "from rasa_core_sdk.events import SlotSet\n",
    "\n",
    "class ActionWeather(Action):\n",
    "    def name(self):\n",
    "        return 'action_weather'\n",
    "\n",
    "    def run(self, dispatcher, tracker, domain):\n",
    "        from apixu.client import ApixuClient\n",
    "        api_key = '2ba4cf94bbc2427791294257191205' #your apixu key\n",
    "        client = ApixuClient(api_key)\n",
    "        loc = tracker.get_slot('location')\n",
    "        current = client.current(q=loc)\n",
    "        country = current['location']['country']\n",
    "        city = current['location']['name']\n",
    "        condition = current['current']['condition']['text']\n",
    "        temperature_c = current['current']['temp_c']\n",
    "        humidity = current['current']['humidity']\n",
    "        wind_mph = current['current']['wind_mph']\n",
    "        response = \"\"\"It is currently {} in {} at the moment. The temperature is {} degrees, the humidity is {}% and the \n",
    "                        wind speed is {} mph.\"\"\".format(condition, city, temperature_c, humidity, wind_mph)\n",
    "        ##loc = tracker.get_slot('location')\n",
    "        ##response = \"weather is absolutely fantastic\"\n",
    "        dispatcher.utter_message(response)\n",
    "        return [SlotSet('location',loc)]"
   ]
  },
  {
   "cell_type": "code",
   "execution_count": null,
   "metadata": {},
   "outputs": [],
   "source": []
  },
  {
   "cell_type": "code",
   "execution_count": null,
   "metadata": {},
   "outputs": [],
   "source": []
  }
 ],
 "metadata": {
  "kernelspec": {
   "display_name": "Python 3",
   "language": "python",
   "name": "python3"
  },
  "language_info": {
   "codemirror_mode": {
    "name": "ipython",
    "version": 3
   },
   "file_extension": ".py",
   "mimetype": "text/x-python",
   "name": "python",
   "nbconvert_exporter": "python",
   "pygments_lexer": "ipython3",
   "version": "3.7.3"
  }
 },
 "nbformat": 4,
 "nbformat_minor": 2
}
